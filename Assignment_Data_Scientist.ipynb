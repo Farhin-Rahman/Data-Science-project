{
  "cells": [
    {
      "cell_type": "code",
      "execution_count": 11,
      "metadata": {
        "colab": {
          "base_uri": "https://localhost:8080/"
        },
        "id": "oXChf1aSVSfU",
        "outputId": "ac34513a-35d3-4b4b-cbe9-f7d59f13cf24"
      },
      "outputs": [
        {
          "output_type": "stream",
          "name": "stdout",
          "text": [
            "  Customer Name       Age    Income  Matched  Division_Barishal  \\\n",
            "0     Christine  0.833333  0.563614     True                  0   \n",
            "1         Susan  0.916667  0.000000    False                  0   \n",
            "2      Margaret  0.500000  0.488427     True                  0   \n",
            "3         David  0.416667  0.000000    False                  1   \n",
            "4         Peter  0.500000  0.439041    False                  0   \n",
            "\n",
            "   Division_Chattogram  Division_Dhaka  Division_Khulna  Division_Mymensingh  \\\n",
            "0                    0               1                0                    0   \n",
            "1                    0               0                0                    0   \n",
            "2                    0               0                1                    0   \n",
            "3                    0               0                0                    0   \n",
            "4                    0               0                0                    1   \n",
            "\n",
            "   Division_Rajshahi  Division_Rangpur  Division_Sylhet  Gender_F  Gender_M  \\\n",
            "0                  0                 0                0         1         0   \n",
            "1                  1                 0                0         1         0   \n",
            "2                  0                 0                0         1         0   \n",
            "3                  0                 0                0         0         1   \n",
            "4                  0                 0                0         0         1   \n",
            "\n",
            "   MaritalStatus_Divorced  MaritalStatus_Married  MaritalStatus_Single  \n",
            "0                       0                      1                     0  \n",
            "1                       0                      0                     1  \n",
            "2                       0                      1                     0  \n",
            "3                       0                      1                     0  \n",
            "4                       0                      0                     1  \n",
            "        ID Customer Name    Division Gender MaritalStatus  Age  Income  \\\n",
            "0  BU79786     Christine       Dhaka      F       Married   46   56274   \n",
            "1  QZ44356         Susan    Rajshahi      F        Single   48       0   \n",
            "2  AI49188      Margaret      Khulna      F       Married   38   48767   \n",
            "3  WW63253         David    Barishal      M       Married   36       0   \n",
            "4  HB64268         Peter  Mymensingh      M        Single   38   43836   \n",
            "\n",
            "   Matched  Cluster  \n",
            "0     True        0  \n",
            "1    False        0  \n",
            "2     True        2  \n",
            "3    False        0  \n",
            "4    False        0  \n"
          ]
        },
        {
          "output_type": "stream",
          "name": "stderr",
          "text": [
            "/usr/local/lib/python3.10/dist-packages/sklearn/cluster/_kmeans.py:870: FutureWarning: The default value of `n_init` will change from 10 to 'auto' in 1.4. Set the value of `n_init` explicitly to suppress the warning\n",
            "  warnings.warn(\n"
          ]
        }
      ],
      "source": [
        "import pandas as pd\n",
        "from sklearn.preprocessing import MinMaxScaler\n",
        "dataset = pd.read_csv(\"Python_Code-Working.csv\")\n",
        "data_frame = dataset.copy()\n",
        "# remove ID column\n",
        "data_frame = data_frame.drop(\"ID\", axis=1)\n",
        "# scale the numeric features\n",
        "columns_to_scale = [\"Age\", \"Income\"]\n",
        "scaler = MinMaxScaler()\n",
        "data_frame[columns_to_scale] = scaler.fit_transform(data_frame[columns_to_scale])\n",
        "# show the modified data frame\n",
        "data_frame.head()\n",
        "# Perform one-hot encoding\n",
        "columns_to_encode = [\"Division\", \"Gender\", \"MaritalStatus\"]\n",
        "data_frame = pd.get_dummies(data_frame, columns=columns_to_encode)\n",
        "\n",
        "# Show the modified data frame\n",
        "print(data_frame.head())\n",
        "from sklearn.cluster import KMeans\n",
        "\n",
        "# Extract the 'Division' column\n",
        "division_column = dataset['Division']\n",
        "\n",
        "# Perform one-hot encoding on 'Division'\n",
        "division_encoded = pd.get_dummies(division_column, prefix='Division')\n",
        "\n",
        "# Perform K-means clustering\n",
        "kmeans = KMeans(n_clusters=3)  # You can specify the desired number of clusters\n",
        "kmeans.fit(division_encoded)\n",
        "\n",
        "# Retrieve the cluster labels\n",
        "cluster_labels = kmeans.labels_\n",
        "\n",
        "# Add the cluster labels to the dataset\n",
        "dataset['Cluster'] = cluster_labels\n",
        "\n",
        "# Show the modified dataset with cluster labels\n",
        "print(dataset.head())\n",
        "\n"
      ]
    }
  ],
  "metadata": {
    "colab": {
      "provenance": []
    },
    "kernelspec": {
      "display_name": "Python 3",
      "name": "python3"
    },
    "language_info": {
      "name": "python"
    }
  },
  "nbformat": 4,
  "nbformat_minor": 0
}